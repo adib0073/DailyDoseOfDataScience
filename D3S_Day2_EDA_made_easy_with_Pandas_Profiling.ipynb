{
  "nbformat": 4,
  "nbformat_minor": 0,
  "metadata": {
    "colab": {
      "name": "D3S_Day2_EDA_made_easy_with_Pandas_Profiling.ipynb",
      "provenance": [],
      "authorship_tag": "ABX9TyNKrtjQcvZbN1HB4IPk663R",
      "include_colab_link": true
    },
    "kernelspec": {
      "name": "python3",
      "display_name": "Python 3"
    },
    "language_info": {
      "name": "python"
    }
  },
  "cells": [
    {
      "cell_type": "markdown",
      "metadata": {
        "id": "view-in-github",
        "colab_type": "text"
      },
      "source": [
        "<a href=\"https://colab.research.google.com/github/adib0073/DailyDoseOfDataScience/blob/main/D3S_Day2_EDA_made_easy_with_Pandas_Profiling.ipynb\" target=\"_parent\"><img src=\"https://colab.research.google.com/assets/colab-badge.svg\" alt=\"Open In Colab\"/></a>"
      ]
    },
    {
      "cell_type": "markdown",
      "metadata": {
        "id": "u5riMTzkQxE0"
      },
      "source": [
        "## Daily Dose of Data Science – Day 2 – EDA made easy with Pandas Profiling"
      ]
    },
    {
      "cell_type": "markdown",
      "metadata": {
        "id": "lzdyy53xRAuY"
      },
      "source": [
        "Please visit https://aditya-bhattacharya.net/2021/09/15/daily-dose-of-data-science-day-2-eda-made-easy-with-pandas-profiling/ to learn more"
      ]
    },
    {
      "cell_type": "code",
      "metadata": {
        "id": "CF7sMwCqQh-y"
      },
      "source": [
        ""
      ],
      "execution_count": 2,
      "outputs": []
    },
    {
      "cell_type": "code",
      "metadata": {
        "id": "6vqYjIclQ9je"
      },
      "source": [
        ""
      ],
      "execution_count": null,
      "outputs": []
    }
  ]
}